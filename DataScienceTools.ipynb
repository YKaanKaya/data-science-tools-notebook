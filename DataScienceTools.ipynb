{
 "cells": [
  {
   "cell_type": "markdown",
   "metadata": {},
   "source": [
    "# Data Science Tools and Ecosystem"
   ]
  },
  {
   "cell_type": "markdown",
   "metadata": {},
   "source": [
    "## Introduction\n",
    "\n",
    "In this notebook, we will explore various Data Science tools, languages, libraries, and ecosystems. Data Science combines multiple fields, including statistics, scientific methods, and data analysis, to extract knowledge and insights from structured and unstructured data."
   ]
  },
  {
   "cell_type": "markdown",
   "metadata": {},
   "source": [
    "## Data Science Languages\n",
    "\n",
    "Some of the popular languages used in Data Science include:\n",
    "1. Python\n",
    "2. R\n",
    "3. SQL\n",
    "4. Julia\n",
    "5. Scala"
   ]
  },
  {
   "cell_type": "markdown",
   "metadata": {},
   "source": [
    "## Data Science Libraries\n",
    "\n",
    "Some of the commonly used libraries in Data Science include:\n",
    "1. **Python Libraries**:\n",
    "   - NumPy - For numerical operations and array manipulation\n",
    "   - Pandas - For data manipulation and analysis\n",
    "   - Matplotlib/Seaborn - For data visualization\n",
    "   - Scikit-learn - For machine learning\n",
    "   - TensorFlow/PyTorch - For deep learning\n",
    "\n",
    "2. **R Libraries**:\n",
    "   - ggplot2 - For data visualization\n",
    "   - dplyr - For data manipulation\n",
    "   - caret - For machine learning\n",
    "   - tidyr - For data cleaning"
   ]
  },
  {
   "cell_type": "markdown",
   "metadata": {},
   "source": [
    "## Data Science Tools\n",
    "\n",
    "| Category | Tools |\n",
    "|----------|-------|\n",
    "| Development Environments | Jupyter Notebooks, RStudio, VS Code, Spyder |\n",
    "| Data Processing | Apache Spark, Apache Hadoop, Apache Flink |\n",
    "| Visualization Tools | Tableau, Power BI, Grafana |\n",
    "| Model Deployment | Docker, Kubernetes, MLflow |\n",
    "| Version Control | Git, GitHub, GitLab |\n",
    "| Database Systems | PostgreSQL, MongoDB, Cassandra |"
   ]
  },
  {
   "cell_type": "markdown",
   "metadata": {},
   "source": [
    "## Arithmetic Expression Examples\n",
    "\n",
    "Below are examples of arithmetic expressions in Python. We will demonstrate basic operations like addition, multiplication, and more complex expressions."
   ]
  },
  {
   "cell_type": "code",
   "execution_count": 1,
   "metadata": {},
   "outputs": [
    {
     "name": "stdout",
     "output_type": "stream",
     "text": [
      "Multiplication: 5 * 7 = 35\n",
      "Addition: 10 + 20 = 30\n",
      "Combined expression: (3 * 4) + 10 = 22\n"
     ]
    }
   ],
   "source": [
    "# Example of multiplication\n",
    "mult = 5 * 7\n",
    "print(f\"Multiplication: 5 * 7 = {mult}\")\n",
    "\n",
    "# Example of addition\n",
    "add = 10 + 20\n",
    "print(f\"Addition: 10 + 20 = {add}\")\n",
    "\n",
    "# Combined expression\n",
    "combined = (3 * 4) + 10\n",
    "print(f\"Combined expression: (3 * 4) + 10 = {combined}\")"
   ]
  },
  {
   "cell_type": "code",
   "execution_count": 2,
   "metadata": {},
   "outputs": [
    {
     "name": "stdout",
     "output_type": "stream",
     "text": [
      "120 minutes is equal to 2.0 hours\n",
      "200 minutes is equal to 3.33 hours\n"
     ]
    }
   ],
   "source": [
    "# Function to convert minutes to hours\n",
    "def minutes_to_hours(minutes):\n",
    "    hours = minutes / 60\n",
    "    return hours\n",
    "\n",
    "# Convert 120 minutes to hours\n",
    "minutes1 = 120\n",
    "hours1 = minutes_to_hours(minutes1)\n",
    "print(f\"{minutes1} minutes is equal to {hours1} hours\")\n",
    "\n",
    "# Convert 200 minutes to hours\n",
    "minutes2 = 200\n",
    "hours2 = minutes_to_hours(minutes2)\n",
    "print(f\"{minutes2} minutes is equal to {hours2:.2f} hours\")"
   ]
  },
  {
   "cell_type": "markdown",
   "metadata": {},
   "source": [
    "## Objectives\n",
    "\n",
    "By the end of this notebook, you will be able to:\n",
    "- List popular languages used in Data Science\n",
    "- Identify commonly used libraries in Data Science\n",
    "- Understand various Data Science tools and their categories\n",
    "- Execute basic arithmetic operations in Python\n",
    "- Convert units using Python functions (e.g., minutes to hours)\n",
    "- Create and share a Jupyter Notebook via GitHub"
   ]
  },
  {
   "cell_type": "markdown",
   "metadata": {},
   "source": [
    "## Author\n",
    "\n",
    "Your Name"
   ]
  }
 ],
 "metadata": {
  "kernelspec": {
   "display_name": "Python 3",
   "language": "python",
   "name": "python3"
  },
  "language_info": {
   "codemirror_mode": {
    "name": "ipython",
    "version": 3
   },
   "file_extension": ".py",
   "mimetype": "text/x-python",
   "name": "python",
   "nbconvert_exporter": "python",
   "pygments_lexer": "ipython3",
   "version": "3.8.10"
  }
 },
 "nbformat": 4,
 "nbformat_minor": 4
}
